{
 "cells": [
  {
   "cell_type": "markdown",
   "id": "vietnamese-athens",
   "metadata": {},
   "source": [
    "<h2> Assignment 01 </h2>"
   ]
  },
  {
   "cell_type": "markdown",
   "id": "desirable-catch",
   "metadata": {},
   "source": [
    "<b> 1. Write a Python program to convert temperatures to and from celsius, fahrenheit. </b>"
   ]
  },
  {
   "cell_type": "code",
   "execution_count": 89,
   "id": "reserved-theater",
   "metadata": {},
   "outputs": [
    {
     "name": "stdout",
     "output_type": "stream",
     "text": [
      "138.2\n",
      "25.0\n"
     ]
    }
   ],
   "source": [
    "def CelciusToFahrenheit(temp_in_celcius):\n",
    "    return ((9 * temp_in_celcius) + (32 * 5)) / 5\n",
    "\n",
    "def FahrenheitToCelcius(temp_in_fahrenheit):\n",
    "    return (5 * (temp_in_fahrenheit - 32)) / 9\n",
    "\n",
    "print(CelciusToFahrenheit(59))\n",
    "print(FahrenheitToCelcius(77))"
   ]
  },
  {
   "cell_type": "markdown",
   "id": "greenhouse-judgment",
   "metadata": {},
   "source": [
    "<b> 2. Write a Python program to check if number is divisible by 7 and multiple of 5, between 1500 and\n",
    "2700 (both included) </b>"
   ]
  },
  {
   "cell_type": "code",
   "execution_count": 90,
   "id": "known-orchestra",
   "metadata": {},
   "outputs": [
    {
     "name": "stdin",
     "output_type": "stream",
     "text": [
      "Enter a number:  55\n"
     ]
    },
    {
     "name": "stdout",
     "output_type": "stream",
     "text": [
      "NO!\n"
     ]
    }
   ],
   "source": [
    "def Divby7_Mulof5_btw_1500_and_2700(num):\n",
    "    return (num >= 1500 and num <= 2700) \\\n",
    "        and (num % 7 == 0) \\\n",
    "        and (num % 5 == 0)\n",
    "\n",
    "num = int(input(\"Enter a number: \"))\n",
    "\n",
    "if Divby7_Mulof5_btw_1500_and_2700(num):\n",
    "    print(\"YES!\")\n",
    "else:\n",
    "    print(\"NO!\")"
   ]
  },
  {
   "cell_type": "markdown",
   "id": "generic-designation",
   "metadata": {},
   "source": [
    "<b> 3. Write a function to return the maximum and minimum value in\n",
    "the list. The function will take the list an argument and return two values. </b>"
   ]
  },
  {
   "cell_type": "code",
   "execution_count": 60,
   "id": "boxed-lawsuit",
   "metadata": {},
   "outputs": [
    {
     "name": "stdout",
     "output_type": "stream",
     "text": [
      "[50, 75, -5, 33, 80, 14, 25] \n",
      "\n",
      "Maximum value: 80\n",
      "Minimum value: -5\n"
     ]
    }
   ],
   "source": [
    "def find_Max(A):\n",
    "    size = len(A)\n",
    "    \n",
    "    if size == 0:\n",
    "        return \"The list is empty!\"\n",
    "    elif size == 1:\n",
    "        return A[0]\n",
    "    else:\n",
    "        maxValue = A[0]\n",
    "        \n",
    "        for x in range(1, size):\n",
    "            if A[x] > maxValue:\n",
    "                maxValue = A[x]\n",
    "                \n",
    "        return maxValue\n",
    "\n",
    "def find_Min(A):\n",
    "    size = len(A)\n",
    "    \n",
    "    if size == 0:\n",
    "        return \"The list is empty!\"\n",
    "    elif size == 1:\n",
    "        return A[0]\n",
    "    else:\n",
    "        minValue = A[0]\n",
    "        \n",
    "        for x in range(1, size):\n",
    "            if A[x] < minValue:\n",
    "                minValue = A[x]\n",
    "                \n",
    "        return minValue\n",
    "    \n",
    "A = [50, 75, -5, 33 , 80, 14, 25]\n",
    "print(A, \"\\n\")\n",
    "\n",
    "print(\"Maximum value:\", find_Max(A))\n",
    "print(\"Minimum value:\", find_Min(A))"
   ]
  },
  {
   "cell_type": "markdown",
   "id": "active-decimal",
   "metadata": {},
   "source": [
    "<b> 4. Write a function to return the 2nd maximum and 2nd minimum value in the list. The function\n",
    "will take the list an argument and return two values. </b>"
   ]
  },
  {
   "cell_type": "code",
   "execution_count": 3,
   "id": "alpha-camcorder",
   "metadata": {},
   "outputs": [
    {
     "name": "stdout",
     "output_type": "stream",
     "text": [
      "[50, 75, -5, 33, 80, 14, 25] \n",
      "\n",
      "Second Maximum value: 75\n",
      "Second Maximum value: 14\n"
     ]
    }
   ],
   "source": [
    "def find_SecondMax(A):\n",
    "    size = len(A)\n",
    "    \n",
    "    if size >= 2:\n",
    "        if A[0] > A[1]:\n",
    "            max_ = A[0]; sec_max = A[1]\n",
    "        else:\n",
    "            max_ = A[1]; sec_max = A[0]\n",
    "        \n",
    "        for x in range(2, size):\n",
    "            if A[x] > max_:\n",
    "                sec_max = max_; max_ = A[x]\n",
    "            elif A[x] > sec_max and max_ != A[x]:\n",
    "                sec_max = A[x]\n",
    "        \n",
    "        return sec_max\n",
    "    else:\n",
    "        return \"The list should have atleast two elemnets or more.\"\n",
    "\n",
    "def find_SecondMin(A):\n",
    "    size = len(A)\n",
    "    \n",
    "    if size >= 2:\n",
    "        if A[0] > A[1]:\n",
    "            min_ = A[1]; sec_min = A[0]\n",
    "        else:\n",
    "            min_ = A[0]; sec_min = A[1]\n",
    "        \n",
    "        for x in range(2, size):\n",
    "            if A[x] < min_:\n",
    "                sec_min = min_; min_ = A[x]\n",
    "            elif A[x] < sec_min and min_ != A[x]:\n",
    "                sec_min = A[x]\n",
    "        \n",
    "        return sec_min\n",
    "    else:\n",
    "        return \"The list should have atleast two elemnets or more.\"\n",
    "\n",
    "print(A, \"\\n\")\n",
    "    \n",
    "print(\"Second Maximum value:\", find_SecondMax(A))\n",
    "print(\"Second Maximum value:\", find_SecondMin(A))"
   ]
  },
  {
   "cell_type": "markdown",
   "id": "smooth-campus",
   "metadata": {},
   "source": [
    "<b> 5. Write a program to find the following statistics from a list. Note: Don’t use any built-in method\n",
    "for this question. </b><br/>\n",
    "\n",
    "<li><em><b> Mean </b></em></li>"
   ]
  },
  {
   "cell_type": "code",
   "execution_count": 53,
   "id": "impaired-density",
   "metadata": {},
   "outputs": [
    {
     "name": "stdout",
     "output_type": "stream",
     "text": [
      "[-5, 14, 25, 33, 50, 75, 80, 13] \n",
      "\n",
      "Mean: 35.62\n"
     ]
    }
   ],
   "source": [
    "def findMean(A):\n",
    "    size = len(A)\n",
    "    sum = 0\n",
    "    \n",
    "    for x in range(size):\n",
    "        sum += A[x]\n",
    "        \n",
    "    return sum / size\n",
    "\n",
    "print(A, \"\\n\")\n",
    "print(\"Mean: %.2f\" % (findMean(A)))"
   ]
  },
  {
   "cell_type": "markdown",
   "id": "under-oakland",
   "metadata": {},
   "source": [
    "<li><em><b> Median </b></em></li>"
   ]
  },
  {
   "cell_type": "code",
   "execution_count": 76,
   "id": "designing-leisure",
   "metadata": {},
   "outputs": [
    {
     "name": "stdout",
     "output_type": "stream",
     "text": [
      "[50, 75, -5, 33, 80, 14, 25] \n",
      "\n",
      "Sorted list: [-5, 14, 25, 33, 50, 75, 80]\n",
      "Median: 33 \n",
      "\n",
      "[50, 75, -5, 33, 80, 14, 25, 13] \n",
      "\n",
      "Sorted list: [-5, 13, 14, 25, 33, 50, 75, 80]\n",
      "Median: 29.0\n"
     ]
    }
   ],
   "source": [
    "def BubbleUp(A, size):\n",
    "    for x in range(size - 1):\n",
    "        if A[x] > A[x + 1]:\n",
    "            A[x], A[x + 1] = A[x + 1], A[x]\n",
    "            \n",
    "    return A\n",
    "\n",
    "def Sort(A):\n",
    "    size = len(A)\n",
    "    \n",
    "    for x in range(size):\n",
    "        A = BubbleUp(A, size - x)\n",
    "    \n",
    "    return A\n",
    "\n",
    "\n",
    "def findMedian(A):\n",
    "    A = Sort(A)\n",
    "    print(\"Sorted list:\", A)\n",
    "    \n",
    "    size = len(A)\n",
    "    mid = (size - 1) // 2 # floor division\n",
    "    \n",
    "    if size % 2 == 0:\n",
    "        return (A[mid] + A[mid + 1]) / 2\n",
    "    else:\n",
    "        return A[mid]\n",
    "\n",
    "list1 = list(A)\n",
    "list2 = [50, 75, -5, 33 , 80, 14, 25, 13]\n",
    "\n",
    "print(list1, \"\\n\")\n",
    "print(\"Median:\", findMedian(list1), \"\\n\")\n",
    "\n",
    "print(list2, \"\\n\")\n",
    "print(\"Median:\", findMedian(list2))"
   ]
  },
  {
   "cell_type": "markdown",
   "id": "decreased-punch",
   "metadata": {},
   "source": [
    "<li><em><b> Mode </b></em></li>"
   ]
  },
  {
   "cell_type": "code",
   "execution_count": 77,
   "id": "similar-stick",
   "metadata": {},
   "outputs": [
    {
     "name": "stdout",
     "output_type": "stream",
     "text": [
      "[5, 8, 4, 2, 5, 4, 7, 9, 1, 4] \n",
      "\n",
      "Sorted list: [1, 2, 4, 4, 4, 5, 5, 7, 8, 9]\n",
      "Mode: 4 \n",
      "\n"
     ]
    }
   ],
   "source": [
    "def findMode(A):\n",
    "    A = Sort(A)\n",
    "    print(\"Sorted list:\", A)\n",
    "    \n",
    "    size = len(A)\n",
    "    max_count = 1; res = A[0]; count = 1\n",
    "    \n",
    "    for x in range(1, size): \n",
    "        if A[x] == A[x - 1]: \n",
    "            count = count + 1\n",
    "        else:\n",
    "            if count > max_count:\n",
    "                max_count = count\n",
    "                res = A[x - 1]\n",
    "                \n",
    "            count = 1; \n",
    "  \n",
    "    # when the last element is most frequent \n",
    "    if count > max_count:\n",
    "        max_count = count \n",
    "        res = A[size - 1]\n",
    "    \n",
    "    return res\n",
    "\n",
    "list3 = [5, 8, 4, 2, 5, 4, 7, 9, 1, 4]\n",
    "\n",
    "print(list3, \"\\n\")\n",
    "print(\"Mode:\", findMode(list3), \"\\n\")"
   ]
  },
  {
   "cell_type": "markdown",
   "id": "polished-testimony",
   "metadata": {},
   "source": [
    "<li><em><b> Variance </b></em></li>"
   ]
  },
  {
   "cell_type": "code",
   "execution_count": 84,
   "id": "simple-queue",
   "metadata": {},
   "outputs": [
    {
     "name": "stdout",
     "output_type": "stream",
     "text": [
      "[50, 75, -5, 33, 80, 14, 25] \n",
      "\n",
      "Variance: 841.551\n"
     ]
    }
   ],
   "source": [
    "def findVariance(A): # Var (X) = E[(X – μ)2]\n",
    "    size = len (A)\n",
    "    mean = findMean(A)\n",
    "    sqDiff = 0\n",
    "    \n",
    "    for x in range(size):\n",
    "        sqDiff += (A[x] - mean) ** 2\n",
    "        \n",
    "    return sqDiff / size;\n",
    "\n",
    "print(A, \"\\n\")\n",
    "print(\"Variance: %.3f\" % (findVariance(A)))"
   ]
  },
  {
   "cell_type": "markdown",
   "id": "treated-virgin",
   "metadata": {},
   "source": [
    "<li><em><b> Standard Deviation <i> (Bonus!!) </i> </b></em></li>"
   ]
  },
  {
   "cell_type": "code",
   "execution_count": 86,
   "id": "communist-earth",
   "metadata": {},
   "outputs": [
    {
     "name": "stdout",
     "output_type": "stream",
     "text": [
      "[50, 75, -5, 33, 80, 14, 25] \n",
      "\n",
      "Standard Deviation: 29.009\n"
     ]
    }
   ],
   "source": [
    "import math\n",
    "\n",
    "def findStandardDeviation(A):\n",
    "    return math.sqrt(findVariance(A))\n",
    "\n",
    "print(A, \"\\n\")\n",
    "print(\"Standard Deviation: %.3f\" % (findStandardDeviation(A)))"
   ]
  }
 ],
 "metadata": {
  "kernelspec": {
   "display_name": "Python 3",
   "language": "python",
   "name": "python3"
  },
  "language_info": {
   "codemirror_mode": {
    "name": "ipython",
    "version": 3
   },
   "file_extension": ".py",
   "mimetype": "text/x-python",
   "name": "python",
   "nbconvert_exporter": "python",
   "pygments_lexer": "ipython3",
   "version": "3.7.6"
  }
 },
 "nbformat": 4,
 "nbformat_minor": 5
}

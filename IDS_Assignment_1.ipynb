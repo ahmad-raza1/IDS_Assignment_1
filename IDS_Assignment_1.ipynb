{
 "cells": [
  {
   "cell_type": "markdown",
   "id": "instrumental-magnitude",
   "metadata": {},
   "source": [
    "<h2> Assignment 01 </h2>"
   ]
  },
  {
   "cell_type": "markdown",
   "id": "accomplished-implementation",
   "metadata": {},
   "source": [
    "<b> 1. Write a Python program to convert temperatures to and from celsius, fahrenheit. </b>"
   ]
  },
  {
   "cell_type": "code",
   "execution_count": 4,
   "id": "oriental-tablet",
   "metadata": {},
   "outputs": [
    {
     "name": "stdout",
     "output_type": "stream",
     "text": [
      "138.2\n",
      "25.0\n"
     ]
    }
   ],
   "source": [
    "def CelciusToFahrenheit(temp_in_celcius):\n",
    "    return ((9 * temp_in_celcius) + (32 * 5)) / 5\n",
    "\n",
    "def FahrenheitToCelcius(temp_in_fahrenheit):\n",
    "    return (5 * (temp_in_fahrenheit - 32)) / 9\n",
    "\n",
    "print(CelciusToFahrenheit(59))\n",
    "print(FahrenheitToCelcius(77))"
   ]
  },
  {
   "cell_type": "markdown",
   "id": "ultimate-friendly",
   "metadata": {},
   "source": [
    "<b> 2. Write a Python program to check if number is divisible by 7 and multiple of 5, between 1500 and\n",
    "2700 (both included) </b>"
   ]
  },
  {
   "cell_type": "code",
   "execution_count": 5,
   "id": "threatened-toyota",
   "metadata": {},
   "outputs": [
    {
     "name": "stdin",
     "output_type": "stream",
     "text": [
      "Enter a number:  50\n"
     ]
    },
    {
     "name": "stdout",
     "output_type": "stream",
     "text": [
      "NO!\n"
     ]
    }
   ],
   "source": [
    "def Divby7_Mulof5_btw_1500_and_2700(num):\n",
    "    return (num >= 1500 and num <= 2700) \\\n",
    "        and (num % 7 == 0) \\\n",
    "        and (num % 5 == 0)\n",
    "\n",
    "num = int(input(\"Enter a number: \"))\n",
    "\n",
    "if Divby7_Mulof5_btw_1500_and_2700(num):\n",
    "    print(\"YES!\")\n",
    "else:\n",
    "    print(\"NO!\")"
   ]
  },
  {
   "cell_type": "markdown",
   "id": "olive-horror",
   "metadata": {},
   "source": [
    "<b> 3. Write a function to return the maximum and minimum value in\n",
    "the list. The function will take the list an argument and return two values. </b>"
   ]
  },
  {
   "cell_type": "code",
   "execution_count": 6,
   "id": "organic-mineral",
   "metadata": {},
   "outputs": [
    {
     "name": "stdout",
     "output_type": "stream",
     "text": [
      "[50, 75, -5, 33, 80, 14, 25] \n",
      "\n",
      "Maximum value: 80\n",
      "Minimum value: -5\n"
     ]
    }
   ],
   "source": [
    "def find_Max(A):\n",
    "    size = len(A)\n",
    "    \n",
    "    if size == 0:\n",
    "        return \"The list is empty!\"\n",
    "    elif size == 1:\n",
    "        return A[0]\n",
    "    else:\n",
    "        maxValue = A[0]\n",
    "        \n",
    "        for x in range(1, size):\n",
    "            if A[x] > maxValue:\n",
    "                maxValue = A[x]\n",
    "                \n",
    "        return maxValue\n",
    "\n",
    "def find_Min(A):\n",
    "    size = len(A)\n",
    "    \n",
    "    if size == 0:\n",
    "        return \"The list is empty!\"\n",
    "    elif size == 1:\n",
    "        return A[0]\n",
    "    else:\n",
    "        minValue = A[0]\n",
    "        \n",
    "        for x in range(1, size):\n",
    "            if A[x] < minValue:\n",
    "                minValue = A[x]\n",
    "                \n",
    "        return minValue\n",
    "    \n",
    "A = [50, 75, -5, 33 , 80, 14, 25]\n",
    "print(A, \"\\n\")\n",
    "\n",
    "print(\"Maximum value:\", find_Max(A))\n",
    "print(\"Minimum value:\", find_Min(A))"
   ]
  },
  {
   "cell_type": "markdown",
   "id": "seventh-lindsay",
   "metadata": {},
   "source": [
    "<b> 4. Write a function to return the 2nd maximum and 2nd minimum value in the list. The function\n",
    "will take the list an argument and return two values. </b>"
   ]
  },
  {
   "cell_type": "code",
   "execution_count": 7,
   "id": "united-necessity",
   "metadata": {},
   "outputs": [
    {
     "name": "stdout",
     "output_type": "stream",
     "text": [
      "[50, 75, -5, 33, 80, 14, 25] \n",
      "\n",
      "Second Maximum value: 75\n",
      "Second Maximum value: 14\n"
     ]
    }
   ],
   "source": [
    "def find_SecondMax(A):\n",
    "    size = len(A)\n",
    "    \n",
    "    if size >= 2:\n",
    "        if A[0] > A[1]:\n",
    "            max_ = A[0]; sec_max = A[1]\n",
    "        else:\n",
    "            max_ = A[1]; sec_max = A[0]\n",
    "        \n",
    "        for x in range(2, size):\n",
    "            if A[x] > max_:\n",
    "                sec_max = max_; max_ = A[x]\n",
    "            elif A[x] > sec_max and max_ != A[x]:\n",
    "                sec_max = A[x]\n",
    "        \n",
    "        return sec_max\n",
    "    else:\n",
    "        return \"The list should have atleast two elemnets or more.\"\n",
    "\n",
    "def find_SecondMin(A):\n",
    "    size = len(A)\n",
    "    \n",
    "    if size >= 2:\n",
    "        if A[0] > A[1]:\n",
    "            min_ = A[1]; sec_min = A[0]\n",
    "        else:\n",
    "            min_ = A[0]; sec_min = A[1]\n",
    "        \n",
    "        for x in range(2, size):\n",
    "            if A[x] < min_:\n",
    "                sec_min = min_; min_ = A[x]\n",
    "            elif A[x] < sec_min and min_ != A[x]:\n",
    "                sec_min = A[x]\n",
    "        \n",
    "        return sec_min\n",
    "    else:\n",
    "        return \"The list should have atleast two elemnets or more.\"\n",
    "\n",
    "print(A, \"\\n\")\n",
    "    \n",
    "print(\"Second Maximum value:\", find_SecondMax(A))\n",
    "print(\"Second Maximum value:\", find_SecondMin(A))"
   ]
  },
  {
   "cell_type": "markdown",
   "id": "compatible-absence",
   "metadata": {},
   "source": [
    "<b> 5. Write a program to find the following statistics from a list. Note: Don’t use any built-in method\n",
    "for this question. </b><br/>\n",
    "\n",
    "<li><em><b> Mean </b></em></li>"
   ]
  },
  {
   "cell_type": "code",
   "execution_count": 8,
   "id": "rolled-palestine",
   "metadata": {},
   "outputs": [
    {
     "name": "stdout",
     "output_type": "stream",
     "text": [
      "[50, 75, -5, 33, 80, 14, 25] \n",
      "\n",
      "Mean: 38.86\n"
     ]
    }
   ],
   "source": [
    "def findMean(A):\n",
    "    size = len(A)\n",
    "    sum = 0\n",
    "    \n",
    "    for x in range(size):\n",
    "        sum += A[x]\n",
    "        \n",
    "    return sum / size\n",
    "\n",
    "print(A, \"\\n\")\n",
    "print(\"Mean: %.2f\" % (findMean(A)))"
   ]
  },
  {
   "cell_type": "markdown",
   "id": "selected-bidding",
   "metadata": {},
   "source": [
    "<li><em><b> Median </b></em></li>"
   ]
  },
  {
   "cell_type": "code",
   "execution_count": 9,
   "id": "executed-hawaiian",
   "metadata": {},
   "outputs": [
    {
     "name": "stdout",
     "output_type": "stream",
     "text": [
      "[50, 75, -5, 33, 80, 14, 25] \n",
      "\n",
      "Sorted list: [-5, 14, 25, 33, 50, 75, 80]\n",
      "Median: 33 \n",
      "\n",
      "[50, 75, -5, 33, 80, 14, 25, 13] \n",
      "\n",
      "Sorted list: [-5, 13, 14, 25, 33, 50, 75, 80]\n",
      "Median: 29.0\n"
     ]
    }
   ],
   "source": [
    "def BubbleUp(A, size):\n",
    "    for x in range(size - 1):\n",
    "        if A[x] > A[x + 1]:\n",
    "            A[x], A[x + 1] = A[x + 1], A[x]\n",
    "            \n",
    "    return A\n",
    "\n",
    "def Sort(A):\n",
    "    size = len(A)\n",
    "    \n",
    "    for x in range(size):\n",
    "        A = BubbleUp(A, size - x)\n",
    "    \n",
    "    return A\n",
    "\n",
    "\n",
    "def findMedian(A):\n",
    "    A = Sort(A)\n",
    "    print(\"Sorted list:\", A)\n",
    "    \n",
    "    size = len(A)\n",
    "    mid = (size - 1) // 2 # floor division\n",
    "    \n",
    "    if size % 2 == 0:\n",
    "        return (A[mid] + A[mid + 1]) / 2\n",
    "    else:\n",
    "        return A[mid]\n",
    "\n",
    "list1 = list(A)\n",
    "list2 = [50, 75, -5, 33 , 80, 14, 25, 13]\n",
    "\n",
    "print(list1, \"\\n\")\n",
    "print(\"Median:\", findMedian(list1), \"\\n\")\n",
    "\n",
    "print(list2, \"\\n\")\n",
    "print(\"Median:\", findMedian(list2))"
   ]
  },
  {
   "cell_type": "markdown",
   "id": "champion-gravity",
   "metadata": {},
   "source": [
    "<li><em><b> Mode </b></em></li>"
   ]
  },
  {
   "cell_type": "code",
   "execution_count": 10,
   "id": "numerical-interview",
   "metadata": {},
   "outputs": [
    {
     "name": "stdout",
     "output_type": "stream",
     "text": [
      "[5, 8, 4, 2, 5, 4, 7, 9, 1, 4] \n",
      "\n",
      "Sorted list: [1, 2, 4, 4, 4, 5, 5, 7, 8, 9]\n",
      "Mode: 4 \n",
      "\n"
     ]
    }
   ],
   "source": [
    "def findMode(A):\n",
    "    A = Sort(A)\n",
    "    print(\"Sorted list:\", A)\n",
    "    \n",
    "    size = len(A)\n",
    "    max_count = 1; res = A[0]; count = 1\n",
    "    \n",
    "    for x in range(1, size): \n",
    "        if A[x] == A[x - 1]: \n",
    "            count = count + 1\n",
    "        else:\n",
    "            if count > max_count:\n",
    "                max_count = count\n",
    "                res = A[x - 1]\n",
    "                \n",
    "            count = 1; \n",
    "  \n",
    "    # when the last element is most frequent \n",
    "    if count > max_count:\n",
    "        max_count = count \n",
    "        res = A[size - 1]\n",
    "    \n",
    "    return res\n",
    "\n",
    "list3 = [5, 8, 4, 2, 5, 4, 7, 9, 1, 4]\n",
    "\n",
    "print(list3, \"\\n\")\n",
    "print(\"Mode:\", findMode(list3), \"\\n\")"
   ]
  },
  {
   "cell_type": "markdown",
   "id": "buried-reunion",
   "metadata": {},
   "source": [
    "<li><em><b> Variance </b></em></li>"
   ]
  },
  {
   "cell_type": "code",
   "execution_count": 11,
   "id": "satellite-intersection",
   "metadata": {},
   "outputs": [
    {
     "name": "stdout",
     "output_type": "stream",
     "text": [
      "[50, 75, -5, 33, 80, 14, 25] \n",
      "\n",
      "Variance: 841.551\n"
     ]
    }
   ],
   "source": [
    "def findVariance(A): # Var (X) = E[(X – μ)2]\n",
    "    size = len (A)\n",
    "    mean = findMean(A)\n",
    "    sqDiff = 0\n",
    "    \n",
    "    for x in range(size):\n",
    "        sqDiff += (A[x] - mean) ** 2\n",
    "        \n",
    "    return sqDiff / size;\n",
    "\n",
    "print(A, \"\\n\")\n",
    "print(\"Variance: %.3f\" % (findVariance(A)))"
   ]
  },
  {
   "cell_type": "markdown",
   "id": "illegal-panel",
   "metadata": {},
   "source": [
    "<li><em><b> Standard Deviation <i> (Bonus!!) </i> </b></em></li>"
   ]
  },
  {
   "cell_type": "code",
   "execution_count": 16,
   "id": "thick-atlas",
   "metadata": {},
   "outputs": [
    {
     "name": "stdout",
     "output_type": "stream",
     "text": [
      "[50, 75, -5, 33, 80, 14, 25] \n",
      "\n",
      "Standard Deviation: 29.009\n"
     ]
    }
   ],
   "source": [
    "import math\n",
    "\n",
    "def findStandardDeviation(A):\n",
    "    return math.sqrt(findVariance(A))\n",
    "\n",
    "print(A, \"\\n\")\n",
    "print(\"Standard Deviation: %.3f\" % (findStandardDeviation(A)))"
   ]
  },
  {
   "cell_type": "markdown",
   "id": "split-stone",
   "metadata": {},
   "source": [
    "<b> 6. You have three strings each containing different text, but all three have some common words in\n",
    "them. Your task is to find the frequency of words in each string and with the use of dictionary\n",
    "and list. </br>\n",
    "The word will act as a 'key' in a dictionary where the value is a list containing the frequency of\n",
    "that word in all three strings. <br/>\n",
    "For example Dictionary['the'] -> List[] -> frequency count. the index '0' will contain the count of\n",
    "str1 and '1' will contain the count of str2 and so on. Following are the sample strings: </b>\n",
    "\n",
    "<ul>\n",
    "    <li><b>str1 = \"a quick brown fox jumps over the lazy dog\"<b/></li>\n",
    "    <li><b>str2 = \"this course can be complex but not complicated if learnt properly\"<b/></li>\n",
    "    <li><b>str3 = \"the boeing plane max 8 was grounded all around the world for technical problems\"<b/></li>\n",
    "</ul>"
   ]
  },
  {
   "cell_type": "code",
   "execution_count": 22,
   "id": "korean-centre",
   "metadata": {},
   "outputs": [
    {
     "name": "stdout",
     "output_type": "stream",
     "text": [
      "a quick brown fox jumps over the lazy dog \n",
      "\n",
      "this course can be complex but not complicated if learnt properly \n",
      "\n",
      "the boeing plane max 8 was grounded all around the world for technical problems \n",
      "\n",
      "Common words: ['be', 'was', '8', 'technical', 'for', 'complicated', 'can', 'a', 'max', 'problems', 'course', 'properly', 'learnt', 'grounded', 'dog', 'the', 'jumps', 'over', 'quick', 'not', 'world', 'plane', 'complex', 'boeing', 'around', 'but', 'brown', 'lazy', 'fox', 'if', 'all', 'this']\n",
      "{'be': [0, 1, 0], 'was': [0, 0, 1], '8': [0, 0, 1], 'technical': [0, 0, 1], 'for': [0, 0, 1], 'complicated': [0, 1, 0], 'can': [0, 1, 0], 'a': [1, 0, 0], 'max': [0, 0, 1], 'problems': [0, 0, 1], 'course': [0, 1, 0], 'properly': [0, 1, 0], 'learnt': [0, 1, 0], 'grounded': [0, 0, 1], 'dog': [1, 0, 0], 'the': [1, 0, 2], 'jumps': [1, 0, 0], 'over': [1, 0, 0], 'quick': [1, 0, 0], 'not': [0, 1, 0], 'world': [0, 0, 1], 'plane': [0, 0, 1], 'complex': [0, 1, 0], 'boeing': [0, 0, 1], 'around': [0, 0, 1], 'but': [0, 1, 0], 'brown': [1, 0, 0], 'lazy': [1, 0, 0], 'fox': [1, 0, 0], 'if': [0, 1, 0], 'all': [0, 0, 1], 'this': [0, 1, 0]}\n"
     ]
    }
   ],
   "source": [
    "import json\n",
    "\n",
    "def countFrequencyOfWords(str_, word):\n",
    "    splits = str_.split()\n",
    "    freq = 0\n",
    "    \n",
    "    for x in splits:\n",
    "        if x == word:\n",
    "            freq = freq + 1\n",
    "            \n",
    "    return freq\n",
    "\n",
    "def findCommonWordsInAllTheThreeStrings(str1, str2, str3):\n",
    "    s1_splits = str1.split()\n",
    "    s2_splits = str2.split()\n",
    "    s3_splits = str3.split()\n",
    "    \n",
    "    return list(set(s1_splits) | set(s2_splits) | set(s3_splits))\n",
    "\n",
    "def frequencyOfCommonWordsInTheString(str_, comm_words):\n",
    "    countList = []\n",
    "    \n",
    "    for x in comm_words:\n",
    "        countList.append(countFrequencyOfWords(str_, x))\n",
    "        \n",
    "    return countList\n",
    "        \n",
    "def frequencyOfCommonWordsInAllTheThreeStrings(str1, str2, str3):\n",
    "    comm_words = findCommonWordsInAllTheThreeStrings(str1, str2, str3)\n",
    "    print(\"Common words:\", comm_words, \"\\n\")\n",
    "    \n",
    "    freqList1 = frequencyOfCommonWordsInTheString(str1, comm_words)\n",
    "    freqList2 = frequencyOfCommonWordsInTheString(str2, comm_words)\n",
    "    freqList3 = frequencyOfCommonWordsInTheString(str3, comm_words)\n",
    "    \n",
    "    \"\"\"print(freqList1)\n",
    "    print(freqList2)\n",
    "    print(freqList3)\"\"\"\n",
    "    \n",
    "    myDict = dict() \n",
    "    freqListLen = len(freqList1)\n",
    "    \n",
    "    for x, iterator in zip(comm_words, range(len(freqList1))):\n",
    "        myDict[x] = []\n",
    "        \n",
    "        myDict[x].append(freqList1[iterator])\n",
    "        myDict[x].append(freqList2[iterator])\n",
    "        myDict[x].append(freqList3[iterator])\n",
    "    \n",
    "    return myDict\n",
    "\n",
    "if __name__ == \"__main__\":\n",
    "    \n",
    "    str1 = \"a quick brown fox jumps over the lazy dog\"\n",
    "    str2 = \"this course can be complex but not complicated if learnt properly\"\n",
    "    str3 = \"the boeing plane max 8 was grounded all around the world for technical problems\"\n",
    "    \n",
    "    print(str1, \"\\n\")\n",
    "    print(str2, \"\\n\")\n",
    "    print(str3, \"\\n\")\n",
    "\n",
    "    result = frequencyOfCommonWordsInAllTheThreeStrings(\n",
    "        str1, str2, str3\n",
    "    )\n",
    "    #print(\"Result:\", json.dumps(result, indent=4))\n",
    "    print(result)"
   ]
  }
 ],
 "metadata": {
  "kernelspec": {
   "display_name": "Python 3",
   "language": "python",
   "name": "python3"
  },
  "language_info": {
   "codemirror_mode": {
    "name": "ipython",
    "version": 3
   },
   "file_extension": ".py",
   "mimetype": "text/x-python",
   "name": "python",
   "nbconvert_exporter": "python",
   "pygments_lexer": "ipython3",
   "version": "3.7.6"
  }
 },
 "nbformat": 4,
 "nbformat_minor": 5
}
